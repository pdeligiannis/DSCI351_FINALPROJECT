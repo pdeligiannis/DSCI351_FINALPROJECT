{
 "cells": [
  {
   "cell_type": "code",
   "execution_count": 1,
   "metadata": {},
   "outputs": [],
   "source": [
    "import projectpath\n",
    "import os \n",
    "import pandas as pd \n",
    "import pickle \n",
    "import numpy as np \n",
    "import d01_data as data_collector\n",
    "import d01_sql as database_calls"
   ]
  },
  {
   "cell_type": "code",
   "execution_count": 2,
   "metadata": {},
   "outputs": [],
   "source": [
    "#ALL READ AND SAVE FILES \n",
    "\n",
    "#READ FILES \n",
    "e2e_path = '../data/data_e2e/'\n",
    "read_files = 'read_files/'\n",
    "save_files = 'save_files/'\n",
    "read_db_path = 'db/'\n",
    "\n",
    "#db-path \n",
    "dbpath = e2e_path+read_db_path+'sqlp1.db'\n",
    "\n",
    "#update data \n",
    "updateData = True \n",
    "\n",
    "#d01_data read files \n",
    "nasdaqtickers = e2e_path+read_files+'00_nasdaqtickers.csv'\n",
    "sector = 'Technology'\n",
    "numberoftickers = 5 \n",
    "#d01_data save files \n",
    "timeseriessavepath = e2e_path+save_files+'rawtimeseries_'+sector+'_.pickle'\n",
    "companyinformationsavepath = e2e_path+save_files+'companyinformation_'+sector+'_.pickle'\n",
    "financialinformationsavepath = e2e_path+save_files+'financialinformation_'+sector+'_.pickle'\n",
    "\n",
    "#save-connection \n",
    "saveconnection = e2e_path+save_files+'databaseconnection.pickle'"
   ]
  },
  {
   "cell_type": "code",
   "execution_count": 3,
   "metadata": {},
   "outputs": [
    {
     "name": "stdout",
     "output_type": "stream",
     "text": [
      "Tickers Retrieved!\n"
     ]
    }
   ],
   "source": [
    "all_tickers = data_collector.gettickers(nasdaqtickers,sector,numberoftickers,updateData=True)"
   ]
  },
  {
   "cell_type": "code",
   "execution_count": 4,
   "metadata": {},
   "outputs": [
    {
     "name": "stdout",
     "output_type": "stream",
     "text": [
      "[*********************100%***********************]  1 of 1 completed\n",
      "[*********************100%***********************]  1 of 1 completed\n",
      "[*********************100%***********************]  1 of 1 completed\n",
      "[*********************100%***********************]  1 of 1 completed\n",
      "[*********************100%***********************]  1 of 1 completed\n",
      "Timeseries Data Retrieved!\n",
      "Company Information Data Retrieved!\n",
      "Financial Information Data Retrieved!\n"
     ]
    }
   ],
   "source": [
    "data_collector.gettimeseries(all_tickers,timeseriessavepath,companyinformationsavepath,financialinformationsavepath)"
   ]
  },
  {
   "cell_type": "code",
   "execution_count": 5,
   "metadata": {},
   "outputs": [],
   "source": [
    "#read local tables \n",
    "company_table = pd.read_pickle(companyinformationsavepath)\n",
    "financial_table = pd.read_pickle(financialinformationsavepath)\n",
    "timeseries_table = pd.read_pickle(timeseriessavepath)\n",
    "\n",
    "#create the database \n",
    "conn = database_calls.create_database(dbpath)\n",
    "database_calls.db(conn,company_table,financial_table,timeseries_table) \n",
    "\n",
    "#save database connection for frontend \n",
    "# with open(saveconnection, 'wb') as handle:\n",
    "#     pickle.dump(conn, handle, protocol=pickle.HIGHEST_PROTOCOL)\n",
    "#     print('Connection Saved!')"
   ]
  },
  {
   "cell_type": "code",
   "execution_count": null,
   "metadata": {},
   "outputs": [],
   "source": []
  }
 ],
 "metadata": {
  "kernelspec": {
   "display_name": "Python 3",
   "language": "python",
   "name": "python3"
  },
  "language_info": {
   "codemirror_mode": {
    "name": "ipython",
    "version": 3
   },
   "file_extension": ".py",
   "mimetype": "text/x-python",
   "name": "python",
   "nbconvert_exporter": "python",
   "pygments_lexer": "ipython3",
   "version": "3.8.1"
  }
 },
 "nbformat": 4,
 "nbformat_minor": 2
}
