{
 "cells": [
  {
   "cell_type": "code",
   "execution_count": 29,
   "metadata": {},
   "outputs": [],
   "source": [
    "import projectpath\n",
    "import pandas as pd \n",
    "import d01_sql as database_calls\n",
    "#import cufflinks as cf \n",
    "import matplotlib.pyplot as plt \n",
    "import seaborn as sns \n",
    "from matplotlib.patches import Polygon\n",
    "from IPython.core.interactiveshell import InteractiveShell\n",
    "from IPython.display import Image, display, clear_output\n",
    "import warnings\n",
    "import ipywidgets as wg \n",
    "from tkinter import *\n",
    "from tkinter import ttk, messagebox\n",
    "from IPython.display import display\n",
    "InteractiveShell.ast_node_interactivity = \"all\"\n",
    "warnings.filterwarnings(\"ignore\")\n",
    "%matplotlib inline "
   ]
  },
  {
   "cell_type": "code",
   "execution_count": 7,
   "metadata": {},
   "outputs": [],
   "source": [
    "#READ FILES \n",
    "e2e_path = '../data/data_e2e/'\n",
    "read_db_path = 'db/'\n",
    "\n",
    "#db-path \n",
    "dbpath = e2e_path+read_db_path+'sqlp1.db'\n",
    "\n",
    "#establish connection again\n",
    "conn = database_calls.create_database(dbpath)\n",
    "#establush cursor \n",
    "cur = conn.cursor()\n",
    "\n",
    "#tables \n",
    "tables = [\"company\",\"financialinformation\",\"security_price\"]"
   ]
  },
  {
   "cell_type": "code",
   "execution_count": 8,
   "metadata": {},
   "outputs": [],
   "source": [
    "#show tables function \n",
    "def showtable(cur,tables):\n",
    "    cur.execute(\"SELECT * FROM \"+tables)\n",
    "    rows = cur.fetchall()\n",
    "    names = list(map(lambda x: x[0], cur.description))\n",
    "    show_table = pd.DataFrame(columns=names)\n",
    "    show_table.rows = rows \n",
    "    for i in range(len(rows)): \n",
    "        show_table.loc[i] = rows[i]\n",
    "    return show_table"
   ]
  },
  {
   "cell_type": "code",
   "execution_count": 4,
   "metadata": {},
   "outputs": [
    {
     "data": {
      "text/html": [
       "<div>\n",
       "<style scoped>\n",
       "    .dataframe tbody tr th:only-of-type {\n",
       "        vertical-align: middle;\n",
       "    }\n",
       "\n",
       "    .dataframe tbody tr th {\n",
       "        vertical-align: top;\n",
       "    }\n",
       "\n",
       "    .dataframe thead th {\n",
       "        text-align: right;\n",
       "    }\n",
       "</style>\n",
       "<table border=\"1\" class=\"dataframe\">\n",
       "  <thead>\n",
       "    <tr style=\"text-align: right;\">\n",
       "      <th></th>\n",
       "      <th>id</th>\n",
       "      <th>Date</th>\n",
       "      <th>Open</th>\n",
       "      <th>High</th>\n",
       "      <th>Low</th>\n",
       "      <th>Close</th>\n",
       "      <th>Volume</th>\n",
       "      <th>adj_close</th>\n",
       "      <th>returns</th>\n",
       "      <th>cumulative_returns</th>\n",
       "    </tr>\n",
       "  </thead>\n",
       "  <tbody>\n",
       "    <tr>\n",
       "      <th>0</th>\n",
       "      <td>0</td>\n",
       "      <td>2016-11-29 00:00:00</td>\n",
       "      <td>27.695000</td>\n",
       "      <td>28.007500</td>\n",
       "      <td>27.517500</td>\n",
       "      <td>27.865000</td>\n",
       "      <td>114115200</td>\n",
       "      <td>26.228817</td>\n",
       "      <td>-0.000986</td>\n",
       "      <td>-0.000986</td>\n",
       "    </tr>\n",
       "    <tr>\n",
       "      <th>1</th>\n",
       "      <td>0</td>\n",
       "      <td>2016-11-30 00:00:00</td>\n",
       "      <td>27.900000</td>\n",
       "      <td>28.049999</td>\n",
       "      <td>27.567499</td>\n",
       "      <td>27.629999</td>\n",
       "      <td>144649200</td>\n",
       "      <td>26.007612</td>\n",
       "      <td>-0.008434</td>\n",
       "      <td>-0.009420</td>\n",
       "    </tr>\n",
       "    <tr>\n",
       "      <th>2</th>\n",
       "      <td>0</td>\n",
       "      <td>2016-12-01 00:00:00</td>\n",
       "      <td>27.592501</td>\n",
       "      <td>27.735001</td>\n",
       "      <td>27.257500</td>\n",
       "      <td>27.372499</td>\n",
       "      <td>148347600</td>\n",
       "      <td>25.765232</td>\n",
       "      <td>-0.009320</td>\n",
       "      <td>-0.018739</td>\n",
       "    </tr>\n",
       "    <tr>\n",
       "      <th>3</th>\n",
       "      <td>0</td>\n",
       "      <td>2016-12-02 00:00:00</td>\n",
       "      <td>27.292500</td>\n",
       "      <td>27.522499</td>\n",
       "      <td>27.212500</td>\n",
       "      <td>27.475000</td>\n",
       "      <td>106112000</td>\n",
       "      <td>25.861719</td>\n",
       "      <td>0.003745</td>\n",
       "      <td>-0.014994</td>\n",
       "    </tr>\n",
       "    <tr>\n",
       "      <th>4</th>\n",
       "      <td>0</td>\n",
       "      <td>2016-12-05 00:00:00</td>\n",
       "      <td>27.500000</td>\n",
       "      <td>27.507500</td>\n",
       "      <td>27.062500</td>\n",
       "      <td>27.277500</td>\n",
       "      <td>137298000</td>\n",
       "      <td>25.675814</td>\n",
       "      <td>-0.007188</td>\n",
       "      <td>-0.022183</td>\n",
       "    </tr>\n",
       "    <tr>\n",
       "      <th>...</th>\n",
       "      <td>...</td>\n",
       "      <td>...</td>\n",
       "      <td>...</td>\n",
       "      <td>...</td>\n",
       "      <td>...</td>\n",
       "      <td>...</td>\n",
       "      <td>...</td>\n",
       "      <td>...</td>\n",
       "      <td>...</td>\n",
       "      <td>...</td>\n",
       "    </tr>\n",
       "    <tr>\n",
       "      <th>6285</th>\n",
       "      <td>4</td>\n",
       "      <td>2021-11-19 00:00:00</td>\n",
       "      <td>2999.510010</td>\n",
       "      <td>3019.330078</td>\n",
       "      <td>2977.979980</td>\n",
       "      <td>2978.530029</td>\n",
       "      <td>1684100</td>\n",
       "      <td>2978.530029</td>\n",
       "      <td>-0.006087</td>\n",
       "      <td>1.514406</td>\n",
       "    </tr>\n",
       "    <tr>\n",
       "      <th>6286</th>\n",
       "      <td>4</td>\n",
       "      <td>2021-11-22 00:00:00</td>\n",
       "      <td>2986.649902</td>\n",
       "      <td>2996.590088</td>\n",
       "      <td>2922.949951</td>\n",
       "      <td>2926.040039</td>\n",
       "      <td>1529700</td>\n",
       "      <td>2926.040039</td>\n",
       "      <td>-0.017623</td>\n",
       "      <td>1.496783</td>\n",
       "    </tr>\n",
       "    <tr>\n",
       "      <th>6287</th>\n",
       "      <td>4</td>\n",
       "      <td>2021-11-23 00:00:00</td>\n",
       "      <td>2923.060059</td>\n",
       "      <td>2933.199951</td>\n",
       "      <td>2882.300049</td>\n",
       "      <td>2915.639893</td>\n",
       "      <td>1360900</td>\n",
       "      <td>2915.639893</td>\n",
       "      <td>-0.003554</td>\n",
       "      <td>1.493229</td>\n",
       "    </tr>\n",
       "    <tr>\n",
       "      <th>6288</th>\n",
       "      <td>4</td>\n",
       "      <td>2021-11-24 00:00:00</td>\n",
       "      <td>2909.469971</td>\n",
       "      <td>2924.989990</td>\n",
       "      <td>2887.459961</td>\n",
       "      <td>2922.399902</td>\n",
       "      <td>902000</td>\n",
       "      <td>2922.399902</td>\n",
       "      <td>0.002319</td>\n",
       "      <td>1.495547</td>\n",
       "    </tr>\n",
       "    <tr>\n",
       "      <th>6289</th>\n",
       "      <td>4</td>\n",
       "      <td>2021-11-26 00:00:00</td>\n",
       "      <td>2886.969971</td>\n",
       "      <td>2891.149902</td>\n",
       "      <td>2836.850098</td>\n",
       "      <td>2843.659912</td>\n",
       "      <td>1523500</td>\n",
       "      <td>2843.659912</td>\n",
       "      <td>-0.026944</td>\n",
       "      <td>1.468603</td>\n",
       "    </tr>\n",
       "  </tbody>\n",
       "</table>\n",
       "<p>6290 rows × 10 columns</p>\n",
       "</div>"
      ],
      "text/plain": [
       "     id                 Date         Open         High          Low  \\\n",
       "0     0  2016-11-29 00:00:00    27.695000    28.007500    27.517500   \n",
       "1     0  2016-11-30 00:00:00    27.900000    28.049999    27.567499   \n",
       "2     0  2016-12-01 00:00:00    27.592501    27.735001    27.257500   \n",
       "3     0  2016-12-02 00:00:00    27.292500    27.522499    27.212500   \n",
       "4     0  2016-12-05 00:00:00    27.500000    27.507500    27.062500   \n",
       "...  ..                  ...          ...          ...          ...   \n",
       "6285  4  2021-11-19 00:00:00  2999.510010  3019.330078  2977.979980   \n",
       "6286  4  2021-11-22 00:00:00  2986.649902  2996.590088  2922.949951   \n",
       "6287  4  2021-11-23 00:00:00  2923.060059  2933.199951  2882.300049   \n",
       "6288  4  2021-11-24 00:00:00  2909.469971  2924.989990  2887.459961   \n",
       "6289  4  2021-11-26 00:00:00  2886.969971  2891.149902  2836.850098   \n",
       "\n",
       "            Close     Volume    adj_close   returns  cumulative_returns  \n",
       "0       27.865000  114115200    26.228817 -0.000986           -0.000986  \n",
       "1       27.629999  144649200    26.007612 -0.008434           -0.009420  \n",
       "2       27.372499  148347600    25.765232 -0.009320           -0.018739  \n",
       "3       27.475000  106112000    25.861719  0.003745           -0.014994  \n",
       "4       27.277500  137298000    25.675814 -0.007188           -0.022183  \n",
       "...           ...        ...          ...       ...                 ...  \n",
       "6285  2978.530029    1684100  2978.530029 -0.006087            1.514406  \n",
       "6286  2926.040039    1529700  2926.040039 -0.017623            1.496783  \n",
       "6287  2915.639893    1360900  2915.639893 -0.003554            1.493229  \n",
       "6288  2922.399902     902000  2922.399902  0.002319            1.495547  \n",
       "6289  2843.659912    1523500  2843.659912 -0.026944            1.468603  \n",
       "\n",
       "[6290 rows x 10 columns]"
      ]
     },
     "execution_count": 4,
     "metadata": {},
     "output_type": "execute_result"
    }
   ],
   "source": [
    "securities_table = showtable(cur,\"security_price\")\n",
    "securities_table "
   ]
  },
  {
   "cell_type": "code",
   "execution_count": 9,
   "metadata": {},
   "outputs": [
    {
     "data": {
      "text/html": [
       "<div>\n",
       "<style scoped>\n",
       "    .dataframe tbody tr th:only-of-type {\n",
       "        vertical-align: middle;\n",
       "    }\n",
       "\n",
       "    .dataframe tbody tr th {\n",
       "        vertical-align: top;\n",
       "    }\n",
       "\n",
       "    .dataframe thead th {\n",
       "        text-align: right;\n",
       "    }\n",
       "</style>\n",
       "<table border=\"1\" class=\"dataframe\">\n",
       "  <thead>\n",
       "    <tr style=\"text-align: right;\">\n",
       "      <th></th>\n",
       "      <th>id</th>\n",
       "      <th>ticker</th>\n",
       "      <th>name</th>\n",
       "      <th>market</th>\n",
       "      <th>city</th>\n",
       "    </tr>\n",
       "  </thead>\n",
       "  <tbody>\n",
       "    <tr>\n",
       "      <th>0</th>\n",
       "      <td>0</td>\n",
       "      <td>AAPL</td>\n",
       "      <td>Apple Inc.</td>\n",
       "      <td>us_market</td>\n",
       "      <td>Cupertino</td>\n",
       "    </tr>\n",
       "    <tr>\n",
       "      <th>1</th>\n",
       "      <td>1</td>\n",
       "      <td>MSFT</td>\n",
       "      <td>Microsoft Corporation</td>\n",
       "      <td>us_market</td>\n",
       "      <td>Redmond</td>\n",
       "    </tr>\n",
       "    <tr>\n",
       "      <th>2</th>\n",
       "      <td>2</td>\n",
       "      <td>AMZN</td>\n",
       "      <td>Amazon.com, Inc.</td>\n",
       "      <td>us_market</td>\n",
       "      <td>Seattle</td>\n",
       "    </tr>\n",
       "    <tr>\n",
       "      <th>3</th>\n",
       "      <td>3</td>\n",
       "      <td>GOOG</td>\n",
       "      <td>Alphabet Inc.</td>\n",
       "      <td>us_market</td>\n",
       "      <td>Mountain View</td>\n",
       "    </tr>\n",
       "    <tr>\n",
       "      <th>4</th>\n",
       "      <td>4</td>\n",
       "      <td>GOOGL</td>\n",
       "      <td>Alphabet Inc.</td>\n",
       "      <td>us_market</td>\n",
       "      <td>Mountain View</td>\n",
       "    </tr>\n",
       "  </tbody>\n",
       "</table>\n",
       "</div>"
      ],
      "text/plain": [
       "  id ticker                   name     market           city\n",
       "0  0   AAPL             Apple Inc.  us_market      Cupertino\n",
       "1  1   MSFT  Microsoft Corporation  us_market        Redmond\n",
       "2  2   AMZN       Amazon.com, Inc.  us_market        Seattle\n",
       "3  3   GOOG          Alphabet Inc.  us_market  Mountain View\n",
       "4  4  GOOGL          Alphabet Inc.  us_market  Mountain View"
      ]
     },
     "execution_count": 9,
     "metadata": {},
     "output_type": "execute_result"
    }
   ],
   "source": [
    "company_table = showtable(cur,\"company\")\n",
    "company_table "
   ]
  },
  {
   "cell_type": "code",
   "execution_count": 10,
   "metadata": {},
   "outputs": [
    {
     "data": {
      "text/html": [
       "<div>\n",
       "<style scoped>\n",
       "    .dataframe tbody tr th:only-of-type {\n",
       "        vertical-align: middle;\n",
       "    }\n",
       "\n",
       "    .dataframe tbody tr th {\n",
       "        vertical-align: top;\n",
       "    }\n",
       "\n",
       "    .dataframe thead th {\n",
       "        text-align: right;\n",
       "    }\n",
       "</style>\n",
       "<table border=\"1\" class=\"dataframe\">\n",
       "  <thead>\n",
       "    <tr style=\"text-align: right;\">\n",
       "      <th></th>\n",
       "      <th>id</th>\n",
       "      <th>currency</th>\n",
       "      <th>market_cap</th>\n",
       "      <th>average_volume_traded</th>\n",
       "      <th>fifty_two_wk_high</th>\n",
       "      <th>fifty_two_wk_low</th>\n",
       "      <th>current_price</th>\n",
       "      <th>fifty_two_wk_change</th>\n",
       "      <th>divident_yield</th>\n",
       "    </tr>\n",
       "  </thead>\n",
       "  <tbody>\n",
       "    <tr>\n",
       "      <th>0</th>\n",
       "      <td>0</td>\n",
       "      <td>b'USD'</td>\n",
       "      <td>2572687507456</td>\n",
       "      <td>72367719</td>\n",
       "      <td>165.70</td>\n",
       "      <td>116.21</td>\n",
       "      <td>156.81</td>\n",
       "      <td>0.317178</td>\n",
       "      <td>0.0056</td>\n",
       "    </tr>\n",
       "    <tr>\n",
       "      <th>1</th>\n",
       "      <td>1</td>\n",
       "      <td>b'USD'</td>\n",
       "      <td>2475230756864</td>\n",
       "      <td>24217242</td>\n",
       "      <td>349.67</td>\n",
       "      <td>209.11</td>\n",
       "      <td>329.68</td>\n",
       "      <td>0.540057</td>\n",
       "      <td>0.0075</td>\n",
       "    </tr>\n",
       "    <tr>\n",
       "      <th>2</th>\n",
       "      <td>2</td>\n",
       "      <td>b'USD'</td>\n",
       "      <td>1777330683904</td>\n",
       "      <td>2991297</td>\n",
       "      <td>3773.08</td>\n",
       "      <td>2881.00</td>\n",
       "      <td>3504.56</td>\n",
       "      <td>0.106223</td>\n",
       "      <td>0.0000</td>\n",
       "    </tr>\n",
       "    <tr>\n",
       "      <th>3</th>\n",
       "      <td>3</td>\n",
       "      <td>b'USD'</td>\n",
       "      <td>1891476963328</td>\n",
       "      <td>849606</td>\n",
       "      <td>3037.00</td>\n",
       "      <td>1699.00</td>\n",
       "      <td>2856.12</td>\n",
       "      <td>0.622113</td>\n",
       "      <td>0.0000</td>\n",
       "    </tr>\n",
       "    <tr>\n",
       "      <th>4</th>\n",
       "      <td>4</td>\n",
       "      <td>b'USD'</td>\n",
       "      <td>1891477356544</td>\n",
       "      <td>1523462</td>\n",
       "      <td>3019.33</td>\n",
       "      <td>1694.00</td>\n",
       "      <td>2843.66</td>\n",
       "      <td>0.620873</td>\n",
       "      <td>0.0000</td>\n",
       "    </tr>\n",
       "  </tbody>\n",
       "</table>\n",
       "</div>"
      ],
      "text/plain": [
       "  id currency     market_cap average_volume_traded  fifty_two_wk_high  \\\n",
       "0  0   b'USD'  2572687507456              72367719             165.70   \n",
       "1  1   b'USD'  2475230756864              24217242             349.67   \n",
       "2  2   b'USD'  1777330683904               2991297            3773.08   \n",
       "3  3   b'USD'  1891476963328                849606            3037.00   \n",
       "4  4   b'USD'  1891477356544               1523462            3019.33   \n",
       "\n",
       "   fifty_two_wk_low  current_price  fifty_two_wk_change  divident_yield  \n",
       "0            116.21         156.81             0.317178          0.0056  \n",
       "1            209.11         329.68             0.540057          0.0075  \n",
       "2           2881.00        3504.56             0.106223          0.0000  \n",
       "3           1699.00        2856.12             0.622113          0.0000  \n",
       "4           1694.00        2843.66             0.620873          0.0000  "
      ]
     },
     "execution_count": 10,
     "metadata": {},
     "output_type": "execute_result"
    }
   ],
   "source": [
    "financialinformation_table = showtable(cur,\"financialinformation\")\n",
    "financialinformation_table "
   ]
  },
  {
   "cell_type": "code",
   "execution_count": 87,
   "metadata": {},
   "outputs": [
    {
     "name": "stdout",
     "output_type": "stream",
     "text": [
      "Database connected\n"
     ]
    },
    {
     "data": {
      "text/plain": [
       "<sqlite3.Cursor at 0x1b3312f7490>"
      ]
     },
     "execution_count": 87,
     "metadata": {},
     "output_type": "execute_result"
    },
    {
     "data": {
      "text/plain": [
       "''"
      ]
     },
     "execution_count": 87,
     "metadata": {},
     "output_type": "execute_result"
    },
    {
     "data": {
      "text/plain": [
       "''"
      ]
     },
     "execution_count": 87,
     "metadata": {},
     "output_type": "execute_result"
    },
    {
     "data": {
      "text/plain": [
       "''"
      ]
     },
     "execution_count": 87,
     "metadata": {},
     "output_type": "execute_result"
    },
    {
     "data": {
      "text/plain": [
       "''"
      ]
     },
     "execution_count": 87,
     "metadata": {},
     "output_type": "execute_result"
    },
    {
     "data": {
      "text/plain": [
       "''"
      ]
     },
     "execution_count": 87,
     "metadata": {},
     "output_type": "execute_result"
    },
    {
     "data": {
      "text/plain": [
       "{}"
      ]
     },
     "execution_count": 87,
     "metadata": {},
     "output_type": "execute_result"
    },
    {
     "data": {
      "text/plain": [
       "{}"
      ]
     },
     "execution_count": 87,
     "metadata": {},
     "output_type": "execute_result"
    },
    {
     "data": {
      "text/plain": [
       "{}"
      ]
     },
     "execution_count": 87,
     "metadata": {},
     "output_type": "execute_result"
    },
    {
     "data": {
      "text/plain": [
       "{}"
      ]
     },
     "execution_count": 87,
     "metadata": {},
     "output_type": "execute_result"
    },
    {
     "data": {
      "text/plain": [
       "{}"
      ]
     },
     "execution_count": 87,
     "metadata": {},
     "output_type": "execute_result"
    },
    {
     "data": {
      "text/plain": [
       "{}"
      ]
     },
     "execution_count": 87,
     "metadata": {},
     "output_type": "execute_result"
    },
    {
     "data": {
      "text/plain": [
       "{}"
      ]
     },
     "execution_count": 87,
     "metadata": {},
     "output_type": "execute_result"
    },
    {
     "data": {
      "text/plain": [
       "{}"
      ]
     },
     "execution_count": 87,
     "metadata": {},
     "output_type": "execute_result"
    },
    {
     "data": {
      "text/plain": [
       "{}"
      ]
     },
     "execution_count": 87,
     "metadata": {},
     "output_type": "execute_result"
    },
    {
     "data": {
      "text/plain": [
       "{}"
      ]
     },
     "execution_count": 87,
     "metadata": {},
     "output_type": "execute_result"
    },
    {
     "data": {
      "text/plain": [
       "{}"
      ]
     },
     "execution_count": 87,
     "metadata": {},
     "output_type": "execute_result"
    },
    {
     "data": {
      "text/plain": [
       "{}"
      ]
     },
     "execution_count": 87,
     "metadata": {},
     "output_type": "execute_result"
    },
    {
     "data": {
      "text/plain": [
       "{}"
      ]
     },
     "execution_count": 87,
     "metadata": {},
     "output_type": "execute_result"
    },
    {
     "data": {
      "text/plain": [
       "{}"
      ]
     },
     "execution_count": 87,
     "metadata": {},
     "output_type": "execute_result"
    },
    {
     "data": {
      "text/plain": [
       "{}"
      ]
     },
     "execution_count": 87,
     "metadata": {},
     "output_type": "execute_result"
    },
    {
     "data": {
      "text/plain": [
       "{}"
      ]
     },
     "execution_count": 87,
     "metadata": {},
     "output_type": "execute_result"
    }
   ],
   "source": [
    "import sqlite3 as sql\n",
    "# connecting sqlite database\n",
    "con = sql.connect(dbpath)\n",
    "# if success\n",
    "if con:\n",
    "    print(\"Database connected\")\n",
    "# creating cursor for performing queries on database\n",
    "cur = con.cursor()\n",
    "cur.execute('SELECT Distinct Date FROM security_price;')\n",
    "# getting the data in d variable\n",
    "d=cur.fetchall()\n",
    "# list for stroing dates\n",
    "date=[]\n",
    "\n",
    "# appending all dates in date list\n",
    "for i in range(len(d)):\n",
    "    date.append(d[i][0])\n",
    "\n",
    "# creating an Tkinter window\n",
    "window = Tk()\n",
    "# setting window title\n",
    "window.title(\"Search Data\")\n",
    "# setting width x height + x pos + y pos\n",
    "window.geometry(\"1300x580+0+0\")\n",
    "# defining background color\n",
    "color = 'lightblue'\n",
    "# setting bg color\n",
    "window.config(bg=color)\n",
    "\n",
    "##############\n",
    "# Table Grid #\n",
    "#############\n",
    "# Styling the headings of table  \n",
    "style = ttk.Style()\n",
    "style.configure(\"mystyle.Treeview\", highlightthickness=5, bd=5, font=('Arial', 10))  # Modify the font of the body\n",
    "style.configure(\"mystyle.Treeview.Heading\", font=('Calibri', 13, 'bold'))  # Modify the font of the headings\n",
    "##############################\n",
    "# creating frame for table\n",
    "Table_Section = LabelFrame(window, text='', pady=40, padx=25,\n",
    "                           font=('Arial', '20', 'bold'), bg=color)\n",
    "Table_Section.pack(side=TOP, anchor=CENTER, pady=20)\n",
    "# creating frame inside the table frame for inputs and buttons\n",
    "Search_frame = Frame(Table_Section, bg=color)\n",
    "Search_frame.pack(side=TOP, anchor=NW)\n",
    "# Ticket text Label \n",
    "Label(Search_frame, text='Ticket', font=('Arial', '12', 'bold'), bg=color).grid(row=0, column=0, sticky=W, padx=3)\n",
    "# Ticket dropdown list\n",
    "ticket_list = ttk.Combobox(Search_frame, values=('MSFT', 'AAPL', 'AMZN', 'GOOG'), font=('Arial', '16', 'bold'))\n",
    "ticket_list.grid(row=0, column=1, padx=3, pady=5)\n",
    "ticket_list.current(0)  # setting it to disply the first value in ticket dropdown\n",
    "# button for search by ticket\n",
    "Button(Search_frame, text='Search By Ticket', font=('Arial', '12', 'bold'),\n",
    "       command=lambda: get_ticket(ticket_list.get()),\n",
    "       width=15, height=1).grid(row=0, column=2, padx=3, columnspan=2)\n",
    "# From Date text Label \n",
    "Label(Search_frame, text='From Date', font=('Arial', '12', 'bold'), bg=color).grid(row=1, column=0, sticky=W, padx=3)\n",
    "# from date dropdown list\n",
    "from_Date_list = ttk.Combobox(Search_frame, values=date, font=('Arial', '16', 'bold'))\n",
    "from_Date_list.grid(row=1, column=1, padx=3, pady=5)\n",
    "from_Date_list.current(0)  # setting it to disply the first value in from date dropdown\n",
    "# To Date text Label \n",
    "Label(Search_frame, text='To Date', font=('Arial', '12', 'bold'), bg=color).grid(row=1, column=2, sticky=W, padx=3)\n",
    "# to date dropdown list\n",
    "to_Date_list = ttk.Combobox(Search_frame, values=date, font=('Arial', '16', 'bold'))\n",
    "to_Date_list.grid(row=1, column=3, padx=3, pady=5)\n",
    "to_Date_list.current(0)  # setting it to disply the first value in to date dropdown\n",
    "# button for search by Date\n",
    "Button(Search_frame, text='Search By Date', font=('Arial', '12', 'bold'),\n",
    "       command=lambda: get_ticket_date(ticket_list.get(), from_Date_list.get(), to_Date_list.get() ),\n",
    "       width=12, height=1).grid(row=1, column=4, padx=3)\n",
    "# frame for table\n",
    "Table_Frame = Frame(Table_Section, bg=color, pady=3, bd=3)\n",
    "# adding scrollbar at Y axis\n",
    "scrollbar = Scrollbar(Table_Frame, orient=VERTICAL)\n",
    "# Creating a table or data viewer or tree view\n",
    "Data_tree = ttk.Treeview(Table_Frame, columns=(1, 2, 3, 4, 5, 6, 7, 8), show='headings',\n",
    "                         height=18, yscrollcommand=scrollbar.set, style=\"mystyle.Treeview\")\n",
    "# setting column width in Treeview\n",
    "Data_tree.column(1, width=150, minwidth=50, stretch=NO, anchor=CENTER)\n",
    "Data_tree.column(2, width=150, minwidth=100, stretch=NO, anchor=CENTER)\n",
    "Data_tree.column(3, width=150, minwidth=100, stretch=NO, anchor=CENTER)\n",
    "Data_tree.column(4, width=150, minwidth=100, stretch=NO, anchor=CENTER)\n",
    "Data_tree.column(5, width=150, minwidth=100, stretch=NO, anchor=CENTER)\n",
    "Data_tree.column(6, width=150, minwidth=100, stretch=NO, anchor=CENTER)\n",
    "Data_tree.column(7, width=150, minwidth=100, stretch=NO, anchor=CENTER)\n",
    "Data_tree.column(8, width=150, minwidth=100, stretch=NO, anchor=CENTER)\n",
    "# setting the headings \n",
    "Data_tree.heading(1, text=\"Ticket\")\n",
    "Data_tree.heading(2, text=\"Date\")\n",
    "Data_tree.heading(3, text=\"Open\")\n",
    "Data_tree.heading(4, text=\"High\")\n",
    "Data_tree.heading(5, text=\"Low\")\n",
    "Data_tree.heading(6, text=\"close\")\n",
    "Data_tree.heading(7, text=\"Volume\")\n",
    "Data_tree.heading(8, text=\"Adj_close\")\n",
    "# configure the scrollbar at Y axis\n",
    "scrollbar.config(command=Data_tree.yview)\n",
    "scrollbar.pack(side=RIGHT, fill=Y)\n",
    "Data_tree.pack()\n",
    "Table_Frame.pack(side=TOP, anchor=CENTER)\n",
    "\n",
    "# function for query by ticket\n",
    "def get_ticket(Ticket_name):\n",
    "\n",
    "    cur.execute(\"select ticker, date, open, high, low, close, volume, adj_close from security_price, company \"\n",
    "                \"where company.id = security_price.id and ticker =?\", (Ticket_name,))\n",
    "    res = cur.fetchall()\n",
    "    # when data found\n",
    "    if res:\n",
    "        # clearing previous data from tree viewer\n",
    "        clear_table()\n",
    "        for row in res:\n",
    "            # inserting data in table viwer\n",
    "            Data_tree.insert('', END, values=row)\n",
    "    else:\n",
    "        # showing msg if no data found\n",
    "        messagebox.showwarning(\"Alert:\", \"Data Not Found...\")\n",
    "\n",
    "        \n",
    "def get_ticket_date(Ticket_name, from_date, to_date):\n",
    "    cur.execute(\"select ticker, date, open, high, low, close, volume, adj_close from security_price, company \"\n",
    "                \"where company.id = security_price.id and ticker =? and (Date between ? and ? );\", (Ticket_name,from_date, to_date))\n",
    "    res = cur.fetchall()\n",
    "    # when data found\n",
    "    if res:\n",
    "        # clearing previous data from tree viewer\n",
    "        clear_table()\n",
    "        for row in res:\n",
    "             # inserting data in table viwer\n",
    "            Data_tree.insert('', END, values=row)\n",
    "    else:\n",
    "        # showing msg if no data found\n",
    "        messagebox.showwarning(\"Alert:\", \"Data Not Found...\")\n",
    "\n",
    "# function for clearing data tree viwer\n",
    "def clear_table():\n",
    "    for i in Data_tree.get_children():\n",
    "        Data_tree.delete(i)\n",
    "\n",
    "\n",
    "window.mainloop()\n"
   ]
  },
  {
   "cell_type": "code",
   "execution_count": 85,
   "metadata": {},
   "outputs": [
    {
     "data": {
      "text/plain": [
       "\"\\nFrm = Frame(ws)\\n\\nLabel(Frm,text='Enter Search Here:').pack(side=LEFT)\\n\\nmodify = Entry(Frm)\\n\\nmodify.pack(side=LEFT, fill=BOTH, expand=1)\\n\\nmodify.focus_set()\\n\\nbuttn = Button(Frm, text='Find')\\nbuttn.pack(side=RIGHT)\\nFrm.pack(side=TOP)\\n\\ntxt = Text(ws)\\n\\ntxt.insert('1.0','Enter here...')\\ntxt.pack(side=BOTTOM)\\n\\n\\ndef find():\\n\\t\\n\\ttxt.tag_remove('found', '1.0', END)\\n\\tser = modify.get()\\n\\tif ser:\\n\\t\\tidx = '1.0'\\n\\t\\twhile 1:\\n\\t\\t\\tidx = txt.search(ser, idx, nocase=1,\\n\\t\\t\\t\\t\\t\\t\\tstopindex=END)\\n\\t\\t\\tif not idx: break\\n\\t\\t\\tlastidx = '%s+%dc' % (idx, len(ser))\\n\\t\\t\\t\\n\\t\\t\\ttxt.tag_add('found', idx, lastidx)\\n\\t\\t\\tidx = lastidx\\n\\t\\ttxt.tag_config('found', foreground='blue')\\n\\tmodify.focus_set()\\nbuttn.config(command=find)\\n\""
      ]
     },
     "execution_count": 85,
     "metadata": {},
     "output_type": "execute_result"
    }
   ],
   "source": [
    "\n",
    "'''\n",
    "Frm = Frame(ws)\n",
    "\n",
    "Label(Frm,text='Enter Search Here:').pack(side=LEFT)\n",
    "\n",
    "modify = Entry(Frm)\n",
    "\n",
    "modify.pack(side=LEFT, fill=BOTH, expand=1)\n",
    "\n",
    "modify.focus_set()\n",
    "\n",
    "buttn = Button(Frm, text='Find')\n",
    "buttn.pack(side=RIGHT)\n",
    "Frm.pack(side=TOP)\n",
    "\n",
    "txt = Text(ws)\n",
    "\n",
    "txt.insert('1.0','Enter here...')\n",
    "txt.pack(side=BOTTOM)\n",
    "\n",
    "\n",
    "def find():\n",
    "\t\n",
    "\ttxt.tag_remove('found', '1.0', END)\n",
    "\tser = modify.get()\n",
    "\tif ser:\n",
    "\t\tidx = '1.0'\n",
    "\t\twhile 1:\n",
    "\t\t\tidx = txt.search(ser, idx, nocase=1,\n",
    "\t\t\t\t\t\t\tstopindex=END)\n",
    "\t\t\tif not idx: break\n",
    "\t\t\tlastidx = '%s+%dc' % (idx, len(ser))\n",
    "\t\t\t\n",
    "\t\t\ttxt.tag_add('found', idx, lastidx)\n",
    "\t\t\tidx = lastidx\n",
    "\t\ttxt.tag_config('found', foreground='blue')\n",
    "\tmodify.focus_set()\n",
    "buttn.config(command=find)\n",
    "'''"
   ]
  },
  {
   "cell_type": "code",
   "execution_count": null,
   "metadata": {},
   "outputs": [],
   "source": []
  },
  {
   "cell_type": "code",
   "execution_count": null,
   "metadata": {},
   "outputs": [],
   "source": []
  }
 ],
 "metadata": {
  "kernelspec": {
   "display_name": "Python 3",
   "language": "python",
   "name": "python3"
  },
  "language_info": {
   "codemirror_mode": {
    "name": "ipython",
    "version": 3
   },
   "file_extension": ".py",
   "mimetype": "text/x-python",
   "name": "python",
   "nbconvert_exporter": "python",
   "pygments_lexer": "ipython3",
   "version": "3.8.5"
  }
 },
 "nbformat": 4,
 "nbformat_minor": 2
}
